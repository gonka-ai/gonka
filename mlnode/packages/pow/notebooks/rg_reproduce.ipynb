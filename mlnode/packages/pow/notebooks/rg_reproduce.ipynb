{
 "cells": [
  {
   "cell_type": "code",
   "execution_count": 8,
   "metadata": {},
   "outputs": [
    {
     "name": "stdout",
     "output_type": "stream",
     "text": [
      "numpy version = 2.0.2\n",
      "CUDA version = 12.1\n",
      "\n",
      "\n",
      "Numpy RNG\n",
      "seed = 1,\t [0.51182162 0.9504637  0.14415961 0.94864945 0.31183145]\n",
      "seed = 42,\t [0.77395605 0.43887844 0.85859792 0.69736803 0.09417735]\n",
      "seed = 2024,\t [0.67583134 0.2143232  0.30945203 0.7994661  0.9958021 ]\n",
      "\n",
      "\n",
      "Torch cpu RNG\n",
      "seed = 1,\t tensor([ 0.6614,  0.2669,  0.0617,  0.6213, -0.4519])\n",
      "seed = 42,\t tensor([ 0.3367,  0.1288,  0.2345,  0.2303, -1.1229])\n",
      "seed = 2024,\t tensor([-0.0404,  1.7260, -0.8140,  1.3722,  0.5060])\n",
      "\n",
      "\n",
      "Torch cuda:0 RNG\n",
      "seed = 1,\t tensor([-0.2963,  2.6764, -0.1408, -0.8441,  0.2905], device='cuda:0')\n",
      "seed = 42,\t tensor([ 0.1940,  2.1614, -0.1721,  0.8491, -1.9244], device='cuda:0')\n",
      "seed = 2024,\t tensor([ 0.9979, -1.1449,  0.6296,  0.7755, -1.9720], device='cuda:0')\n",
      "\n",
      "\n"
     ]
    }
   ],
   "source": [
    "import numpy as np\n",
    "import torch\n",
    "\n",
    "seeds = [1, 42, 2024]\n",
    "print(f\"numpy version = {np.version.version}\")\n",
    "print(f\"CUDA version = {torch.version.cuda}\")\n",
    "print('\\n')\n",
    "#Numpy check\n",
    "print('Numpy RNG')\n",
    "for seed in seeds:\n",
    "    numpy_rng = np.random.default_rng(seed)\n",
    "    numbers = numpy_rng.random(size=5)\n",
    "    print(f\"seed = {seed},\\t {numbers}\")\n",
    "print('\\n')\n",
    "\n",
    "#Torch check\n",
    "device_strs = ['cpu'] + [f'cuda:{d}' for d in np.arange(0, torch.cuda.device_count())]\n",
    "for d in device_strs:\n",
    "    print(f'Torch {d} RNG')\n",
    "    for seed in seeds:\n",
    "        device = torch.device(d)\n",
    "        torch_rng = torch.Generator(device=device)\n",
    "        torch_rng.manual_seed(seed)\n",
    "        numbers = torch.randn(size=(5,), generator=torch_rng, device=torch_rng.device)\n",
    "        print(f\"seed = {seed},\\t {numbers}\")\n",
    "    print('\\n')"
   ]
  },
  {
   "cell_type": "code",
   "execution_count": null,
   "metadata": {},
   "outputs": [],
   "source": []
  }
 ],
 "metadata": {
  "kernelspec": {
   "display_name": "Python 3 (ipykernel)",
   "language": "python",
   "name": "python3"
  },
  "language_info": {
   "codemirror_mode": {
    "name": "ipython",
    "version": 3
   },
   "file_extension": ".py",
   "mimetype": "text/x-python",
   "name": "python",
   "nbconvert_exporter": "python",
   "pygments_lexer": "ipython3",
   "version": "3.9.12"
  }
 },
 "nbformat": 4,
 "nbformat_minor": 4
}
