{
 "cells": [
  {
   "cell_type": "code",
   "execution_count": 2,
   "metadata": {},
   "outputs": [
    {
     "ename": "ModuleNotFoundError",
     "evalue": "No module named 'pow.app'",
     "output_type": "error",
     "traceback": [
      "\u001b[31m---------------------------------------------------------------------------\u001b[39m",
      "\u001b[31mModuleNotFoundError\u001b[39m                       Traceback (most recent call last)",
      "\u001b[36mCell\u001b[39m\u001b[36m \u001b[39m\u001b[32mIn[2]\u001b[39m\u001b[32m, line 6\u001b[39m\n\u001b[32m      2\u001b[39m \u001b[38;5;28;01mimport\u001b[39;00m\u001b[38;5;250m \u001b[39m\u001b[34;01mdatetime\u001b[39;00m\n\u001b[32m      4\u001b[39m \u001b[38;5;28;01mfrom\u001b[39;00m\u001b[38;5;250m \u001b[39m\u001b[34;01mtextwrap\u001b[39;00m\u001b[38;5;250m \u001b[39m\u001b[38;5;28;01mimport\u001b[39;00m dedent\n\u001b[32m----> \u001b[39m\u001b[32m6\u001b[39m \u001b[38;5;28;01mfrom\u001b[39;00m\u001b[38;5;250m \u001b[39m\u001b[34;01mpow\u001b[39;00m\u001b[34;01m.\u001b[39;00m\u001b[34;01mapp\u001b[39;00m\u001b[34;01m.\u001b[39;00m\u001b[34;01mclient\u001b[39;00m\u001b[38;5;250m \u001b[39m\u001b[38;5;28;01mimport\u001b[39;00m (\n\u001b[32m      7\u001b[39m     initiate,\n\u001b[32m      8\u001b[39m     stop,\n\u001b[32m      9\u001b[39m     get_status,\n\u001b[32m     10\u001b[39m     get_generated,\n\u001b[32m     11\u001b[39m     get_validated,\n\u001b[32m     12\u001b[39m     validate,\n\u001b[32m     13\u001b[39m     init_gen,\n\u001b[32m     14\u001b[39m     init_val,\n\u001b[32m     15\u001b[39m     start_validation,\n\u001b[32m     16\u001b[39m )\n\u001b[32m     18\u001b[39m \u001b[38;5;28;01mimport\u001b[39;00m\u001b[38;5;250m \u001b[39m\u001b[34;01mhashlib\u001b[39;00m\n\u001b[32m     20\u001b[39m \u001b[38;5;28;01mfrom\u001b[39;00m\u001b[38;5;250m \u001b[39m\u001b[34;01mpow\u001b[39;00m\u001b[34;01m.\u001b[39;00m\u001b[34;01mcompute\u001b[39;00m\u001b[34;01m.\u001b[39;00m\u001b[34;01mstats\u001b[39;00m\u001b[38;5;250m \u001b[39m\u001b[38;5;28;01mimport\u001b[39;00m estimate_R_from_experiment\n",
      "\u001b[31mModuleNotFoundError\u001b[39m: No module named 'pow.app'"
     ]
    }
   ],
   "source": [
    "import time\n",
    "import datetime\n",
    "\n",
    "from textwrap import dedent\n",
    "\n",
    "from pow.app.client import (\n",
    "    initiate,\n",
    "    stop,\n",
    "    get_status,\n",
    "    get_generated,\n",
    "    get_validated,\n",
    "    validate,\n",
    "    init_gen,\n",
    "    init_val,\n",
    "    start_validation,\n",
    ")\n",
    "\n",
    "import hashlib\n",
    "\n",
    "from pow.compute.stats import estimate_R_from_experiment\n",
    "from pow.compute.compute import ProofBatch\n",
    "from pow.models.utils import Params\n",
    "\n",
    "\n",
    "date_str = datetime.datetime.now().strftime('%Y-%m-%d_%H-%M-%S')\n",
    "\n",
    "CHAIN_HASH = hashlib.sha256(date_str.encode()).hexdigest()\n",
    "\n",
    "PUBLIC_KEY_1 = f\"pub_key_1_{date_str}\"\n",
    "PUBLIC_KEY_2 = f\"pub_key_2_{date_str}\"\n",
    "PUBLIC_KEY_3 = f\"pub_key_3_{date_str}\"\n",
    "\n",
    "BATCH_SIZE_1 = 8000\n",
    "BATCH_SIZE_2 = 3500\n",
    "BATCH_SIZE_3 = 15000\n",
    "\n",
    "# 1 good nonce for 5000 checked\n",
    "R_TARGET = 1.387185311663014\n",
    "\n",
    "# For n = 20000\n",
    "# 1 good nonce for 2000 checked\n",
    "R_TARGET = 1.3974563001625417\n",
    "\n",
    "# # 1 good nonce for 500 checked\n",
    "R_TARGET = 1.3931334028176634\n",
    "\n",
    "\n",
    "# n = 20000\n",
    "# 1 good nonce for 100 checked\n",
    "R_TARGET = 1.4024477475855244\n",
    "\n",
    "\n",
    "URL_1 = \"http://34.170.104.200:8080\"\n",
    "URL_2 = \"http://34.45.171.196:8080\"\n",
    "URL_3 = \"http://34.69.126.67:8080\"\n",
    "\n",
    "\n",
    "# R_ESTIMATE = estimate_R_from_experiment(\n",
    "#     n=8192,\n",
    "#     P=0.0005,\n",
    "#     num_samples=50000\n",
    "# )\n",
    "\n",
    "# print(R_ESTIMATE)\n"
   ]
  },
  {
   "cell_type": "code",
   "execution_count": 3,
   "metadata": {},
   "outputs": [
    {
     "name": "stdout",
     "output_type": "stream",
     "text": [
      "1.4013564660458173\n"
     ]
    }
   ],
   "source": [
    "from pow.compute.stats import estimate_R_from_experiment\n",
    "\n",
    "R_ESTIMATE = estimate_R_from_experiment(\n",
    "    n=8192,\n",
    "    P=0.05,\n",
    "    num_samples=50000\n",
    ")\n",
    "\n",
    "print(R_ESTIMATE)\n",
    "\n"
   ]
  },
  {
   "cell_type": "code",
   "execution_count": 145,
   "metadata": {},
   "outputs": [],
   "source": [
    "\n",
    "\n",
    "\n",
    "# R = 1.3900514434415774\n",
    "# params = Params(\n",
    "#     # dim=1024,\n",
    "#     # vocab_size=4096,\n",
    "#     # n_layers=16,\n",
    "#     # n_heads=16,\n",
    "#     # n_kv_heads=16\n",
    "# )\n",
    "\n",
    "\n",
    "\n",
    "BATCH_SIZE_1 = 10000\n",
    "BATCH_SIZE_3 = 14000\n",
    "R_TARGET = 1.39005144344157\n",
    "params = Params(\n",
    "    dim=512,\n",
    "    n_layers=64,\n",
    "    n_heads=64,\n",
    "    n_kv_heads=64,\n",
    "    vocab_size=8192,\n",
    "    ffn_dim_multiplier=32.0,\n",
    "    multiple_of=1024,\n",
    "    norm_eps=1e-05, \n",
    "    rope_theta=500000.0,\n",
    "    use_scaled_rope=False,\n",
    "    seq_len=4\n",
    ")"
   ]
  },
  {
   "cell_type": "code",
   "execution_count": null,
   "metadata": {},
   "outputs": [],
   "source": [
    "from pow.compute.autobs import get"
   ]
  },
  {
   "cell_type": "code",
   "execution_count": 146,
   "metadata": {},
   "outputs": [],
   "source": [
    "# init_gen(URL_1, CHAIN_HASH, PUBLIC_KEY_1, BATCH_SIZE_1, R_TARGET, params)\n",
    "# init_gen(URL_2, CHAIN_HASH, PUBLIC_KEY_2, BATCH_SIZE_2, R_TARGET, params)\n",
    "init_gen(URL_3, CHAIN_HASH, PUBLIC_KEY_3, BATCH_SIZE_3, R_TARGET, params)"
   ]
  },
  {
   "cell_type": "code",
   "execution_count": 73,
   "metadata": {},
   "outputs": [
    {
     "data": {
      "text/plain": [
       "[]"
      ]
     },
     "execution_count": 73,
     "metadata": {},
     "output_type": "execute_result"
    }
   ],
   "source": [
    "# init_val(URL_2, CHAIN_HASH, PUBLIC_KEY_2, BATCH_SIZE_2, R_TARGET, params)\n",
    "init_val(URL_1, CHAIN_HASH, PUBLIC_KEY_1, BATCH_SIZE_1, R_TARGET)\n",
    "# init_gen(URL_3, CHAIN_HASH, PUBLIC_KEY_3, BATCH_SIZE_3, R_TARGET, params)"
   ]
  },
  {
   "cell_type": "code",
   "execution_count": 57,
   "metadata": {},
   "outputs": [
    {
     "data": {
      "text/plain": [
       "{'public_key': '', 'chain_hash': '', 'nonces': [], 'dist': []}"
      ]
     },
     "execution_count": 57,
     "metadata": {},
     "output_type": "execute_result"
    }
   ],
   "source": [
    "URL_l4x2 = \"http://34.173.45.153:8080\"\n",
    "BATCH_SIZE_L4X2 = 15000\n",
    "PUBLIC_KEY_L4X2 = f\"pub_key_l4x2_{date_str}\"\n",
    "\n",
    "URL_P4 = \"http://35.232.233.188:8080\"\n",
    "BATCH_SIZE_P4 = 8000\n",
    "PUBLIC_KEY_P4 = f\"pub_key_p4_{date_str}\"\n",
    "\n",
    "URL_A100 = \"http://34.121.141.55:8080\"\n",
    "BATCH_SIZE_A100 = 28000\n",
    "PUBLIC_KEY_A100 = f\"pub_key_a100_{date_str}\"\n",
    "\n",
    "R_TARGET = 1.39005144344157\n",
    "params = Params(\n",
    "    dim=512,\n",
    "    n_layers=64,\n",
    "    n_heads=128,\n",
    "    n_kv_heads=128,\n",
    "    vocab_size=8192,\n",
    "    ffn_dim_multiplier=16.0,\n",
    "    multiple_of=1024,\n",
    "    norm_eps=1e-05,\n",
    "    rope_theta=500000.0,\n",
    "    use_scaled_rope=False,\n",
    "    seq_len=4\n",
    ")\n",
    "\n",
    "try:\n",
    "    stop(URL_l4x2)\n",
    "except Exception as e:\n",
    "    print(e)\n",
    "\n",
    "try:\n",
    "    stop(URL_P4)\n",
    "except Exception as e:\n",
    "    print(e)\n",
    "\n",
    "try:\n",
    "    stop(URL_A100)\n",
    "except Exception as e:\n",
    "    print(e)\n",
    "\n",
    "init_gen(URL_l4x2, CHAIN_HASH, PUBLIC_KEY_L4X2, BATCH_SIZE_L4X2, R_TARGET, params)\n",
    "init_gen(URL_P4, CHAIN_HASH, PUBLIC_KEY_P4, BATCH_SIZE_P4, R_TARGET, params)\n",
    "init_gen(URL_A100, CHAIN_HASH, PUBLIC_KEY_A100, BATCH_SIZE_A100, R_TARGET, params)\n"
   ]
  },
  {
   "cell_type": "code",
   "execution_count": 12,
   "metadata": {},
   "outputs": [
    {
     "data": {
      "text/plain": [
       "{'status': 'GENERATING'}"
      ]
     },
     "execution_count": 12,
     "metadata": {},
     "output_type": "execute_result"
    }
   ],
   "source": [
    "from pow.app.client import start_generation\n",
    "\n",
    "start_generation(URL_l4x2)\n"
   ]
  },
  {
   "cell_type": "code",
   "execution_count": 131,
   "metadata": {},
   "outputs": [
    {
     "data": {
      "text/plain": [
       "{'status': 'STOPPED'}"
      ]
     },
     "execution_count": 131,
     "metadata": {},
     "output_type": "execute_result"
    }
   ],
   "source": [
    "stop(URL_1)\n",
    "stop(URL_3)\n"
   ]
  },
  {
   "cell_type": "code",
   "execution_count": null,
   "metadata": {},
   "outputs": [],
   "source": [
    "# params = Params(\n",
    "#     dim=2048,\n",
    "#     vocab_size=20000,\n",
    "#     n_layers=32,\n",
    "#     n_heads=32,\n",
    "#     n_kv_heads=32\n",
    "# )\n",
    "\n",
    "# # init_gen(URL_1, CHAIN_HASH, PUBLIC_KEY_1, BATCH_SIZE_1, R_TARGET, params)"
   ]
  },
  {
   "cell_type": "code",
   "execution_count": null,
   "metadata": {},
   "outputs": [],
   "source": [
    "to_validate = get_generated(URL_3)\n",
    "to_validate = ProofBatch(**to_validate)\n",
    "print(to_validate.nonces)"
   ]
  },
  {
   "cell_type": "code",
   "execution_count": null,
   "metadata": {},
   "outputs": [],
   "source": [
    "for x in to_validate.split(128):\n",
    "    validate(URL_2, x.__dict__)\n",
    "    # validate(URL_1, x.__dict__)\n",
    "\n"
   ]
  },
  {
   "cell_type": "code",
   "execution_count": null,
   "metadata": {},
   "outputs": [],
   "source": [
    "validated_1 = []\n",
    "validated_2 = []"
   ]
  },
  {
   "cell_type": "code",
   "execution_count": null,
   "metadata": {},
   "outputs": [],
   "source": [
    "validated_1.extend(get_validated(URL_2))\n",
    "# validated_2.extend(get_validated(URL_2))\n",
    "\n",
    "print(len(validated_1))\n",
    "# print(len(validated_2))"
   ]
  },
  {
   "cell_type": "code",
   "execution_count": null,
   "metadata": {},
   "outputs": [],
   "source": [
    "val_1_nonce2dist = {}\n",
    "for batch in validated_1:\n",
    "    for nonce, dist in zip(batch[\"nonces\"], batch[\"dist\"]):\n",
    "        val_1_nonce2dist[nonce] = dist\n",
    "\n",
    "val_2_nonce2dist = {}\n",
    "for batch in validated_2:\n",
    "    for nonce, dist in zip(batch[\"nonces\"], batch[\"dist\"]):\n",
    "        val_2_nonce2dist[nonce] = dist"
   ]
  },
  {
   "cell_type": "code",
   "execution_count": null,
   "metadata": {},
   "outputs": [],
   "source": [
    "for nonce, dist in zip(to_validate.nonces, to_validate.dist):\n",
    "    if nonce not in val_1_nonce2dist:\n",
    "        print(f\"Nonce {nonce} not in val_1\")\n",
    "    if nonce not in val_2_nonce2dist:\n",
    "        print(f\"Nonce {nonce} not in val_2\")\n",
    "\n",
    "\n",
    "    val_1_dist = val_1_nonce2dist[nonce]\n",
    "    # val_2_dist = val_2_nonce2dist[nonce]\n",
    "    diff = dist - val_1_dist\n",
    "    print(f\"Nonce: {nonce} | dist_gen: {dist:.7f} | dist_val_1: {val_1_dist:.7f} | diff: {diff:.7f} | {val_1_dist < R_TARGET}\")\n"
   ]
  },
  {
   "cell_type": "code",
   "execution_count": 20,
   "metadata": {},
   "outputs": [
    {
     "ename": "TypeError",
     "evalue": "'float' object cannot be interpreted as an integer",
     "output_type": "error",
     "traceback": [
      "\u001b[0;31m---------------------------------------------------------------------------\u001b[0m",
      "\u001b[0;31mTypeError\u001b[0m                                 Traceback (most recent call last)",
      "Cell \u001b[0;32mIn[20], line 1\u001b[0m\n\u001b[0;32m----> 1\u001b[0m gen \u001b[38;5;241m=\u001b[39m \u001b[38;5;28;43mrange\u001b[39;49m\u001b[43m(\u001b[49m\u001b[38;5;241;43m1\u001b[39;49m\u001b[43m,\u001b[49m\u001b[43m \u001b[49m\u001b[38;5;28;43mfloat\u001b[39;49m\u001b[43m(\u001b[49m\u001b[38;5;124;43m'\u001b[39;49m\u001b[38;5;124;43minf\u001b[39;49m\u001b[38;5;124;43m'\u001b[39;49m\u001b[43m)\u001b[49m\u001b[43m,\u001b[49m\u001b[43m \u001b[49m\u001b[38;5;241;43m2\u001b[39;49m\u001b[43m)\u001b[49m\n",
      "\u001b[0;31mTypeError\u001b[0m: 'float' object cannot be interpreted as an integer"
     ]
    }
   ],
   "source": [
    "gen = range(1, float('inf'), 2)"
   ]
  },
  {
   "cell_type": "code",
   "execution_count": 21,
   "metadata": {},
   "outputs": [],
   "source": [
    "from itertools import count"
   ]
  },
  {
   "cell_type": "code",
   "execution_count": null,
   "metadata": {},
   "outputs": [],
   "source": [
    "next()"
   ]
  }
 ],
 "metadata": {
  "kernelspec": {
   "display_name": "main",
   "language": "python",
   "name": "python3"
  },
  "language_info": {
   "codemirror_mode": {
    "name": "ipython",
    "version": 3
   },
   "file_extension": ".py",
   "mimetype": "text/x-python",
   "name": "python",
   "nbconvert_exporter": "python",
   "pygments_lexer": "ipython3",
   "version": "3.12.11"
  }
 },
 "nbformat": 4,
 "nbformat_minor": 2
}
