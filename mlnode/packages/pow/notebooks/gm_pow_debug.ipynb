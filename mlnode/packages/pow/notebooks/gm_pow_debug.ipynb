{
 "cells": [
  {
   "cell_type": "code",
   "execution_count": 43,
   "metadata": {},
   "outputs": [
    {
     "name": "stdout",
     "output_type": "stream",
     "text": [
      "The autoreload extension is already loaded. To reload it, use:\n",
      "  %reload_ext autoreload\n"
     ]
    },
    {
     "data": {
      "text/plain": [
       "{'status': 'GENERATING', 'is_model_initialized': True}"
      ]
     },
     "execution_count": 43,
     "metadata": {},
     "output_type": "execute_result"
    }
   ],
   "source": [
    "%load_ext autoreload\n",
    "%autoreload 2\n",
    "\n",
    "import requests\n",
    "\n",
    "\n",
    "from pow.service.client import PowClient\n",
    "from pow.models.utils import Params\n",
    "\n",
    "URL = \"http://203.154.134.53:31669\"\n",
    "RECEIVER_URL = \"http://195.242.10.196:5000\"\n",
    "BLOCK_HASH = \"some-shared-hash\"\n",
    "PUBLIC_KEY = \"public_key_1\"\n",
    "R_TARGET = 5\n",
    "BATCH_SIZE = 100\n",
    "\n",
    "params = Params(\n",
    "    dim=1024,\n",
    "    n_layers=32,\n",
    "    n_heads=32,\n",
    "    n_kv_heads=32,\n",
    "    vocab_size=8196,\n",
    "    ffn_dim_multiplier=10.0,\n",
    "    multiple_of=8*256,\n",
    "    norm_eps=1e-5,\n",
    "    rope_theta=10000.0,\n",
    "    use_scaled_rope=False,\n",
    "    seq_len=128\n",
    ")\n",
    "client = PowClient(URL)\n",
    "client.status()\n"
   ]
  },
  {
   "cell_type": "code",
   "execution_count": 44,
   "metadata": {},
   "outputs": [
    {
     "data": {
      "text/plain": [
       "{'status': 'OK',\n",
       " 'pow_status': {'status': 'GENERATING', 'is_model_initialized': False}}"
      ]
     },
     "execution_count": 44,
     "metadata": {},
     "output_type": "execute_result"
    }
   ],
   "source": [
    "client.stop()\n",
    "client.init_generate(\n",
    "    node_id=0,\n",
    "    node_count=1,\n",
    "    url=RECEIVER_URL,\n",
    "    block_hash=BLOCK_HASH,\n",
    "    block_height=0,\n",
    "    public_key=PUBLIC_KEY,\n",
    "    batch_size=BATCH_SIZE,\n",
    "    r_target=R_TARGET,\n",
    "    fraud_threshold=0.01,\n",
    "    params=params\n",
    ")\n"
   ]
  },
  {
   "cell_type": "code",
   "execution_count": null,
   "metadata": {},
   "outputs": [],
   "source": []
  },
  {
   "cell_type": "code",
   "execution_count": null,
   "metadata": {},
   "outputs": [],
   "source": []
  }
 ],
 "metadata": {
  "kernelspec": {
   "display_name": ".venv",
   "language": "python",
   "name": "python3"
  },
  "language_info": {
   "codemirror_mode": {
    "name": "ipython",
    "version": 3
   },
   "file_extension": ".py",
   "mimetype": "text/x-python",
   "name": "python",
   "nbconvert_exporter": "python",
   "pygments_lexer": "ipython3",
   "version": "3.12.9"
  }
 },
 "nbformat": 4,
 "nbformat_minor": 2
}
