{
 "cells": [
  {
   "cell_type": "code",
   "execution_count": 1,
   "metadata": {},
   "outputs": [],
   "source": [
    "# Setup and Imports\n",
    "import time\n",
    "import datetime\n",
    "import requests\n",
    "import hashlib\n",
    "from pow.app.client_v1 import ClientV1\n",
    "from pow.compute.stats import estimate_R_from_experiment\n",
    "from pow.compute.compute import ProofBatch\n",
    "from pow.data import ValidatedBatch\n",
    "from pow.models.utils import Params\n",
    "\n",
    "# Generate unique identifiers for this session\n",
    "date_str = datetime.datetime.now().strftime('%Y-%m-%d_%H-%M-%S')\n",
    "BLOCK_HASH = hashlib.sha256(date_str.encode()).hexdigest()\n",
    "PUBLIC_KEY = f\"pub_key_1_{date_str}\"\n",
    "BATCH_SIZE = 5000"
   ]
  },
  {
   "cell_type": "code",
   "execution_count": 2,
   "metadata": {},
   "outputs": [],
   "source": [
    "# API Configuration\n",
    "client_url = \"http://172.18.116.100:8081\" #batch reciever\n",
    "server_url = \"http://172.18.116.100:8080\"\n",
    "client = ClientV1(server_url)\n",
    "BASE_URL = client_url"
   ]
  },
  {
   "cell_type": "code",
   "execution_count": 3,
   "metadata": {},
   "outputs": [],
   "source": [
    "# Helper Functions for API Interaction\n",
    "def get_proof_batches():\n",
    "    \"\"\"Fetch all generated proof batches from the server\"\"\"\n",
    "    response = requests.get(f\"{BASE_URL}/generated\")\n",
    "    if response.status_code == 200:\n",
    "        return response.json()[\"proof_batches\"]\n",
    "    else:\n",
    "        raise Exception(f\"Error: {response.status_code} - {response.text}\")\n",
    "\n",
    "def get_val_proof_batches():\n",
    "    \"\"\"Fetch all validated proof batches from the server\"\"\"\n",
    "    response = requests.get(f\"{BASE_URL}/validated\")\n",
    "    if response.status_code == 200:\n",
    "        return response.json()[\"validated_batches\"]\n",
    "    else:\n",
    "        raise Exception(f\"Error: {response.status_code} - {response.text}\")\n",
    "\n",
    "# Calculate R estimate for the experiment\n",
    "R_ESTIMATE = estimate_R_from_experiment(\n",
    "    n=8192,\n",
    "    P=0.001,\n",
    "    num_samples=50000\n",
    ")\n",
    "R_TARGET = R_ESTIMATE\n",
    "\n",
    "# Define model parameters\n",
    "params = Params(\n",
    "    dim=512,\n",
    "    n_layers=64,\n",
    "    n_heads=128,\n",
    "    n_kv_heads=128,\n",
    "    vocab_size=8192,\n",
    "    ffn_dim_multiplier=16.0,\n",
    "    multiple_of=1024,\n",
    "    norm_eps=1e-05,\n",
    "    rope_theta=500000.0,\n",
    "    use_scaled_rope=True,\n",
    "    seq_len=4\n",
    ")\n",
    "\n",
    "# Set fraud detection threshold\n",
    "fraud_threshold = 0.01\n",
    "\n",
    "# Utility functions for testing\n",
    "def create_correct_batch(pb, n=10000):\n",
    "    \"\"\"Create a batch of correct proofs for testing\"\"\"\n",
    "    correct_pb_dict = {\n",
    "        'public_key': pb.public_key,\n",
    "        'block_hash': pb.block_hash,\n",
    "        'block_height': pb.block_height,\n",
    "        'nonces': [pb.nonces[0]] * n,\n",
    "        'dist': [pb.dist[0]] * n\n",
    "    }\n",
    "    return ProofBatch(**correct_pb_dict)\n",
    "\n",
    "def get_incorrect_nonce(pb):\n",
    "    \"\"\"Generate an invalid nonce for testing\"\"\"\n",
    "    for i in range(1000):\n",
    "        if i not in pb.nonces:\n",
    "            return i\n",
    "    return None\n",
    "\n",
    "def create_incorrect_batch(pb, n, n_invalid):\n",
    "    \"\"\"Create a batch with some invalid proofs for testing\"\"\"\n",
    "    incorrect_pb_dict = {\n",
    "        'public_key': pb.public_key,\n",
    "        'block_hash': pb.block_hash,\n",
    "        'block_height': pb.block_height,\n",
    "        'nonces': [get_incorrect_nonce(pb)] * n_invalid,\n",
    "        'dist': [pb.dist[0]] * n_invalid\n",
    "    }\n",
    "    return ProofBatch.merge([\n",
    "        create_correct_batch(pb, n-n_invalid), \n",
    "        ProofBatch(**incorrect_pb_dict)\n",
    "    ])"
   ]
  },
  {
   "cell_type": "code",
   "execution_count": 4,
   "metadata": {},
   "outputs": [
    {
     "data": {
      "text/plain": [
       "{'status': 'OK',\n",
       " 'pow_status': {'status': 'GENERATING', 'is_model_initialized': False}}"
      ]
     },
     "execution_count": 4,
     "metadata": {},
     "output_type": "execute_result"
    }
   ],
   "source": [
    "# Example Usage:\n",
    "# 1. Initialize proof generation\n",
    "client.init_generate(\n",
    "    url=client_url,\n",
    "    block_hash=BLOCK_HASH,\n",
    "    block_height=1,\n",
    "    public_key=PUBLIC_KEY,\n",
    "    batch_size=BATCH_SIZE,\n",
    "    r_target=R_TARGET,\n",
    "    fraud_threshold=fraud_threshold,\n",
    "    params=params,\n",
    ")\n",
    "# Wait for the server to generate some batches (about a minute)"
   ]
  },
  {
   "cell_type": "code",
   "execution_count": 5,
   "metadata": {},
   "outputs": [],
   "source": [
    "# 2. Get generated proofs\n",
    "proof_batches = get_proof_batches()\n",
    "pb = ProofBatch(**proof_batches[-1])"
   ]
  },
  {
   "cell_type": "code",
   "execution_count": 6,
   "metadata": {},
   "outputs": [],
   "source": [
    "# 3. Create test batches\n",
    "incorrect_pb = create_incorrect_batch(pb, 2000, 10)  # 2000 total proofs, 10 invalid\n",
    "correct_pb = create_correct_batch(pb, 2000)          # 2000 valid proofs"
   ]
  },
  {
   "cell_type": "code",
   "execution_count": 7,
   "metadata": {},
   "outputs": [
    {
     "data": {
      "text/plain": [
       "{'status': 'OK',\n",
       " 'pow_status': {'status': 'VALIDATING', 'is_model_initialized': True}}"
      ]
     },
     "execution_count": 7,
     "metadata": {},
     "output_type": "execute_result"
    }
   ],
   "source": [
    "# 4. Start validation\n",
    "client.start_validation()\n",
    "# alternative way, which removes the model and put it back.\n",
    "# client.stop\n",
    "# client.init_validate(...)"
   ]
  },
  {
   "cell_type": "code",
   "execution_count": 8,
   "metadata": {},
   "outputs": [],
   "source": [
    "# 5. Submit batches for validation\n",
    "client.validate(correct_pb)"
   ]
  },
  {
   "cell_type": "code",
   "execution_count": 9,
   "metadata": {},
   "outputs": [],
   "source": [
    "client.validate(incorrect_pb)"
   ]
  },
  {
   "cell_type": "code",
   "execution_count": 10,
   "metadata": {},
   "outputs": [],
   "source": [
    "# 6. Check validation results\n",
    "val_proof_batches = get_val_proof_batches()"
   ]
  },
  {
   "cell_type": "code",
   "execution_count": 11,
   "metadata": {},
   "outputs": [
    {
     "name": "stdout",
     "output_type": "stream",
     "text": [
      "Valid batch: size=2000, invalid=0, p_honest=1.00e+00, threshold=1.00e-02, fraud=False\n",
      "Invalid batch: size=2000, invalid=10, p_honest=1.09e-07, threshold=1.00e-02, fraud=True\n"
     ]
    }
   ],
   "source": [
    "# Print results for both batches\n",
    "vpb = ValidatedBatch(**val_proof_batches[-2])  # Valid batch\n",
    "print(f\"Valid batch: size={len(vpb)}, invalid={vpb.n_invalid}, p_honest={vpb.probability_honest:.2e}, \"\n",
    "      f\"threshold={vpb.fraud_threshold:.2e}, fraud={vpb.fraud_detected}\")\n",
    "\n",
    "vpb = ValidatedBatch(**val_proof_batches[-1])  # Invalid batch\n",
    "print(f\"Invalid batch: size={len(vpb)}, invalid={vpb.n_invalid}, p_honest={vpb.probability_honest:.2e}, \"\n",
    "      f\"threshold={vpb.fraud_threshold:.2e}, fraud={vpb.fraud_detected}\")"
   ]
  },
  {
   "cell_type": "code",
   "execution_count": null,
   "metadata": {},
   "outputs": [],
   "source": []
  }
 ],
 "metadata": {
  "kernelspec": {
   "display_name": "Python 3 (ipykernel)",
   "language": "python",
   "name": "python3"
  },
  "language_info": {
   "codemirror_mode": {
    "name": "ipython",
    "version": 3
   },
   "file_extension": ".py",
   "mimetype": "text/x-python",
   "name": "python",
   "nbconvert_exporter": "python",
   "pygments_lexer": "ipython3",
   "version": "3.10.12"
  }
 },
 "nbformat": 4,
 "nbformat_minor": 4
}
