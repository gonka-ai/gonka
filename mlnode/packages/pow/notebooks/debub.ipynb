{
 "cells": [
  {
   "cell_type": "code",
   "execution_count": null,
   "id": "49faf21b",
   "metadata": {},
   "outputs": [],
   "source": [
    "%load_ext autoreload\n",
    "%autoreload 2\n",
    "\n",
    "import os\n",
    "os.environ[\"CUDA_VISIBLE_DEVICES\"] = \"0\""
   ]
  },
  {
   "cell_type": "code",
   "execution_count": null,
   "id": "371417c3",
   "metadata": {},
   "outputs": [],
   "source": [
    "import torch\n",
    "import numpy as np\n",
    "from pow.compute.compute import Compute\n",
    "from pow.models.utils import Params\n"
   ]
  },
  {
   "cell_type": "code",
   "execution_count": null,
   "id": "1bb10134",
   "metadata": {},
   "outputs": [],
   "source": [
    "from pow.compute.gpu_group import create_gpu_groups\n",
    "create_gpu_groups()"
   ]
  },
  {
   "cell_type": "code",
   "execution_count": null,
   "id": "45415017",
   "metadata": {},
   "outputs": [],
   "source": [
    "# params = Params(\n",
    "#     dim=1024,\n",
    "#     n_layers=64,\n",
    "#     n_heads=32,\n",
    "#     n_kv_heads=32,\n",
    "#     vocab_size=8196,\n",
    "#     ffn_dim_multiplier=10.0,\n",
    "#     multiple_of=4*2048,\n",
    "#     norm_eps=1e-5,\n",
    "#     rope_theta=10000.0,\n",
    "#     use_scaled_rope=False,\n",
    "#     seq_len=128,\n",
    "# )\n",
    "params = Params(\n",
    "    dim=1024,\n",
    "    n_layers=32,\n",
    "    n_heads=32,\n",
    "    n_kv_heads=32,\n",
    "    vocab_size=8196, \n",
    "    ffn_dim_multiplier=10.0,\n",
    "    multiple_of=2048,\n",
    "    norm_eps=1e-05,\n",
    "    rope_theta=10000.0,\n",
    "    use_scaled_rope=False,\n",
    "    seq_len=128\n",
    ")\n"
   ]
  },
  {
   "cell_type": "code",
   "execution_count": null,
   "id": "9014c42c",
   "metadata": {},
   "outputs": [],
   "source": [
    "block_hash = \"test_block_hash_debug_12345\"\n",
    "block_height = 12345\n",
    "public_key = \"debug_public_key_67890\"\n",
    "r_target = 0.5\n",
    "devices = [\"cuda:0\"]\n",
    "\n",
    "compute = Compute(\n",
    "    params=params,\n",
    "    block_hash=block_hash,\n",
    "    block_height=block_height,\n",
    "    public_key=public_key,\n",
    "    r_target=r_target,\n",
    "    devices=devices,\n",
    "    node_id=0,\n",
    ")\n"
   ]
  },
  {
   "cell_type": "code",
   "execution_count": null,
   "id": "65c9a2e8",
   "metadata": {},
   "outputs": [],
   "source": [
    "test_nonces = list(range(400))\n",
    "\n",
    "future_result = compute(\n",
    "    nonces=test_nonces,\n",
    "    public_key=public_key,\n",
    "    target=compute.target,\n",
    "    next_nonces=None,\n",
    "    use_cache=False\n",
    ")\n",
    "\n",
    "proof_batch = future_result.result()"
   ]
  },
  {
   "cell_type": "code",
   "execution_count": null,
   "id": "4b251030",
   "metadata": {},
   "outputs": [],
   "source": [
    "from pow.compute.gpu_group import create_gpu_groups\n",
    "create_gpu_groups()"
   ]
  },
  {
   "cell_type": "code",
   "execution_count": null,
   "id": "9fc34cea",
   "metadata": {},
   "outputs": [],
   "source": [
    "compute.model.module.freqs_cis"
   ]
  },
  {
   "cell_type": "code",
   "execution_count": null,
   "id": "75c2b8b7",
   "metadata": {},
   "outputs": [],
   "source": [
    "proof_batch"
   ]
  },
  {
   "cell_type": "code",
   "execution_count": null,
   "id": "e19b964c",
   "metadata": {},
   "outputs": [],
   "source": [
    "compute.model.module"
   ]
  },
  {
   "cell_type": "code",
   "execution_count": null,
   "id": "cd03157c",
   "metadata": {},
   "outputs": [],
   "source": []
  },
  {
   "cell_type": "code",
   "execution_count": null,
   "id": "4d218715",
   "metadata": {},
   "outputs": [],
   "source": [
    "proof_batch.dist = proof_batch.dist.tolist()"
   ]
  },
  {
   "cell_type": "code",
   "execution_count": null,
   "id": "8dac9e1a",
   "metadata": {},
   "outputs": [],
   "source": [
    "import json\n",
    "\n",
    "with open(\"proof_batch.json\", \"w\") as f:\n",
    "    json.dump(proof_batch.__dict__, f)\n"
   ]
  },
  {
   "cell_type": "code",
   "execution_count": null,
   "id": "40b20902",
   "metadata": {},
   "outputs": [],
   "source": [
    "import json\n",
    "from pow.data import ProofBatch\n",
    "\n",
    "with open(\"proof_batch.json\", \"r\") as f:\n",
    "    proof_batch1 = json.load(f)\n",
    "\n",
    "proof_batch1 = ProofBatch(**proof_batch1)\n",
    "\n",
    "print(proof_batch1)"
   ]
  },
  {
   "cell_type": "code",
   "execution_count": null,
   "id": "87152e38",
   "metadata": {},
   "outputs": [],
   "source": [
    "validated_batch = compute.validate(proof_batch1)\n",
    "print(f\"Original distances: {proof_batch1.dist}\")\n",
    "print(f\"Validated distances: {validated_batch.dist}\")\n",
    "\n",
    "distance_differences = [abs(d1 - d2) for d1, d2 in zip(proof_batch1.dist, validated_batch.dist)]\n",
    "max_diff = max(distance_differences)\n",
    "print(f\"Maximum difference between original and validated: {max_diff}\")\n",
    "print(f\"Validation {'✅ PASSED' if max_diff < 1e-6 else '❌ FAILED'}\")\n"
   ]
  },
  {
   "cell_type": "code",
   "execution_count": null,
   "id": "a799084b",
   "metadata": {},
   "outputs": [],
   "source": []
  },
  {
   "cell_type": "code",
   "execution_count": null,
   "id": "7875c3d0",
   "metadata": {},
   "outputs": [],
   "source": [
    "\n"
   ]
  }
 ],
 "metadata": {
  "kernelspec": {
   "display_name": "main",
   "language": "python",
   "name": "python3"
  },
  "language_info": {
   "codemirror_mode": {
    "name": "ipython",
    "version": 3
   },
   "file_extension": ".py",
   "mimetype": "text/x-python",
   "name": "python",
   "nbconvert_exporter": "python",
   "pygments_lexer": "ipython3",
   "version": "3.12.11"
  }
 },
 "nbformat": 4,
 "nbformat_minor": 5
}
