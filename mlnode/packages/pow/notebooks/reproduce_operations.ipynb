{
 "cells": [
  {
   "cell_type": "code",
   "execution_count": 1,
   "metadata": {},
   "outputs": [],
   "source": [
    "import os\n",
    "os.environ[\"CUBLAS_WORKSPACE_CONFIG\"] = \":4096:8\"\n",
    "%load_ext autoreload\n",
    "%autoreload 2\n",
    "import numpy as np\n",
    "import hashlib\n",
    "import time\n",
    "import torch\n",
    "from tqdm.notebook import tqdm\n",
    "import sys\n",
    "sys.path.append('../src')\n",
    "from pow.compute.pipeline import Pipeline\n",
    "from pow.compute.compute import AttentionModel, Compute\n"
   ]
  },
  {
   "cell_type": "code",
   "execution_count": 2,
   "metadata": {},
   "outputs": [],
   "source": [
    "torch.backends.cudnn.deterministic = True\n",
    "torch.backends.cudnn.benchmark = False"
   ]
  },
  {
   "cell_type": "code",
   "execution_count": 3,
   "metadata": {},
   "outputs": [],
   "source": [
    "difficulty = 0\n",
    "public_key = '1'\n",
    "hidden_size = 5"
   ]
  },
  {
   "cell_type": "code",
   "execution_count": 4,
   "metadata": {},
   "outputs": [],
   "source": [
    "a = np.arange(hidden_size)[:, None] @ np.arange(hidden_size)[None, :] + np.eye(hidden_size)\n",
    "a = torch.FloatTensor(a) / hidden_size"
   ]
  },
  {
   "cell_type": "code",
   "execution_count": 5,
   "metadata": {},
   "outputs": [],
   "source": [
    "device = torch.device('cpu')\n",
    "pf = Compute('1', device, hid=hidden_size)\n",
    "out = pf.forward(a)\n",
    "h = pf.get_hash(out)"
   ]
  },
  {
   "cell_type": "code",
   "execution_count": 6,
   "metadata": {},
   "outputs": [
    {
     "name": "stdout",
     "output_type": "stream",
     "text": [
      "cpu\n",
      "tensor([[-0.1125,  0.0034, -0.5369,  0.8934,  0.9922],\n",
      "        [-0.0617,  0.2172, -0.5609,  1.0200,  0.9040],\n",
      "        [ 0.0452,  0.5062, -0.5466,  1.0678,  0.7836],\n",
      "        [ 0.0867,  0.5801, -0.5014,  1.0422,  0.7290],\n",
      "        [ 0.1822,  0.9413, -0.5837,  1.0974,  0.6961]])\n",
      "b\"\\xdb\\xc2\\x01\\xf8\\xb1\\xcc23\\xd0GS\\x07{\\xa9\\x85\\xb7['\\xff=C\\x0f\\x1a\\xea\\x13\\xec\\xd1\\x13\\x86\\x83[\\x9f\"\n",
      "cpu\n",
      "tensor([[-0.1125,  0.0034, -0.5369,  0.8934,  0.9922],\n",
      "        [-0.0617,  0.2172, -0.5609,  1.0200,  0.9040],\n",
      "        [ 0.0452,  0.5062, -0.5466,  1.0678,  0.7836],\n",
      "        [ 0.0867,  0.5801, -0.5014,  1.0422,  0.7290],\n",
      "        [ 0.1822,  0.9413, -0.5837,  1.0974,  0.6961]])\n",
      "b\"\\xdb\\xc2\\x01\\xf8\\xb1\\xcc23\\xd0GS\\x07{\\xa9\\x85\\xb7['\\xff=C\\x0f\\x1a\\xea\\x13\\xec\\xd1\\x13\\x86\\x83[\\x9f\"\n",
      "cuda:0\n",
      "tensor([[-0.4681, -0.2761, -0.2445, -0.1581, -0.1612],\n",
      "        [-0.4362, -0.2897, -0.3001, -0.1644, -0.0974],\n",
      "        [-0.4608, -0.3109, -0.2901, -0.1928, -0.1291],\n",
      "        [-0.5033, -0.3004, -0.3141, -0.1909, -0.1031],\n",
      "        [-0.4906, -0.3194, -0.2896, -0.1880, -0.1517]], device='cuda:0')\n",
      "b'\\x0cF\\x15\\x94\\x0b\\xd3\\xfb*R\\r\\xc3\\xd7M\\x0c(\\xf6\\xa4\\x94\\x1a\\x99LLb\\xac\\r\\xb4en\\\\\\ne&'\n"
     ]
    }
   ],
   "source": [
    "\n",
    "for d in ['cpu', 'cpu', 'cuda:0']:\n",
    "    print(d)\n",
    "    device = torch.device(d)\n",
    "    pf = Compute('1', device, hid=hidden_size)\n",
    "    out = pf.forward(a.to(device))\n",
    "    h = pf.get_hash(out)\n",
    "    print(out)\n",
    "    print(h)"
   ]
  },
  {
   "cell_type": "code",
   "execution_count": null,
   "metadata": {},
   "outputs": [],
   "source": []
  }
 ],
 "metadata": {
  "kernelspec": {
   "display_name": "Python 3 (ipykernel)",
   "language": "python",
   "name": "python3"
  },
  "language_info": {
   "codemirror_mode": {
    "name": "ipython",
    "version": 3
   },
   "file_extension": ".py",
   "mimetype": "text/x-python",
   "name": "python",
   "nbconvert_exporter": "python",
   "pygments_lexer": "ipython3",
   "version": "3.9.12"
  }
 },
 "nbformat": 4,
 "nbformat_minor": 4
}
